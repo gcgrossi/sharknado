{
  "nbformat": 4,
  "nbformat_minor": 0,
  "metadata": {
    "accelerator": "GPU",
    "colab": {
      "name": "train_vgg.ipynb",
      "provenance": [],
      "collapsed_sections": [
        "BeaeP3A5BLOT",
        "N7Lt0SwuBc28",
        "szcydVn7CdM-",
        "Gqs_p_mLECnW",
        "I1p7ClQOERJh",
        "d4raNKDSGOjT"
      ]
    },
    "kernelspec": {
      "display_name": "Python 3",
      "name": "python3"
    },
    "language_info": {
      "name": "python"
    }
  },
  "cells": [
    {
      "cell_type": "markdown",
      "metadata": {
        "id": "ylv3VBMHA_hu"
      },
      "source": [
        "## **Imports**"
      ]
    },
    {
      "cell_type": "code",
      "metadata": {
        "id": "0JIWi4hbZfiX"
      },
      "source": [
        "from tensorflow.keras.models import Sequential\n",
        "from tensorflow.keras.layers import Dense\n",
        "from tensorflow.keras.optimizers import SGD\n",
        "from tensorflow.keras.optimizers import Adam\n",
        "from tensorflow.keras.preprocessing.image import ImageDataGenerator\n",
        "from tensorflow.keras.callbacks import EarlyStopping\n",
        "\n",
        "from sklearn.metrics import classification_report, confusion_matrix\n",
        "from sklearn.preprocessing import LabelBinarizer\n",
        "from sklearn.preprocessing import LabelEncoder\n",
        "from sklearn.preprocessing import OneHotEncoder\n",
        "from sklearn.model_selection import train_test_split\n",
        "\n",
        "from google.colab import drive\n",
        "from pathlib import Path\n",
        "\n",
        "import matplotlib.pyplot as plt\n",
        "import numpy as np\n",
        "import pickle\n",
        "import cv2\n",
        "import random\n",
        "import sys\n",
        "import os\n"
      ],
      "execution_count": null,
      "outputs": []
    },
    {
      "cell_type": "code",
      "metadata": {
        "colab": {
          "base_uri": "https://localhost:8080/"
        },
        "id": "kPKVHVBsOOX3",
        "outputId": "3267f041-c0e9-48f5-8f12-b886349bb009"
      },
      "source": [
        "# mount drive folder and import custom modules\n",
        "drive.mount('/content/drive', force_remount=False)\n",
        "sys.path.insert(0,'/content/drive/MyDrive/Shark_Classification')\n",
        "\n",
        "from architectures.smallvggnet import SmallVGGNet"
      ],
      "execution_count": null,
      "outputs": [
        {
          "output_type": "stream",
          "text": [
            "Drive already mounted at /content/drive; to attempt to forcibly remount, call drive.mount(\"/content/drive\", force_remount=True).\n"
          ],
          "name": "stdout"
        }
      ]
    },
    {
      "cell_type": "markdown",
      "metadata": {
        "id": "BeaeP3A5BLOT"
      },
      "source": [
        "## **Function to List Files in Directory**"
      ]
    },
    {
      "cell_type": "code",
      "metadata": {
        "id": "M1EjaMbMTksF"
      },
      "source": [
        "file_extensions = (\".jpg\", \".jpeg\", \".png\", \".bmp\", \".tif\", \".tiff\")\n",
        "keep_labels     = ['great_white_shark','hammerhead_shark']\n",
        "\n",
        "def list_files(indir=os.getcwd(),valid_extensions=file_extensions,valid_labels=keep_labels):\n",
        "    for (rootdir,dirs,files) in os.walk(indir):\n",
        "        for filename in files:\n",
        "            # determine the file extension of the current file\n",
        "            ext = filename[filename.rfind(\".\"):].lower()\n",
        "            \n",
        "            # check to see if the file is an image and should be processed\n",
        "            if valid_extensions is None or ext.endswith(valid_extensions):\n",
        "                \n",
        "                # construct the path to the image and yield it\n",
        "                imagePath = os.path.join(rootdir, filename)\n",
        "                \n",
        "                # yield the path if the label should not be dropped \n",
        "                if imagePath.split(os.path.sep)[-2] in valid_labels:\n",
        "                    yield imagePath\n",
        "            \n",
        "    return"
      ],
      "execution_count": null,
      "outputs": []
    },
    {
      "cell_type": "markdown",
      "metadata": {
        "id": "N7Lt0SwuBc28"
      },
      "source": [
        "## **Read Files**"
      ]
    },
    {
      "cell_type": "code",
      "metadata": {
        "colab": {
          "base_uri": "https://localhost:8080/"
        },
        "id": "QW1DPwj5BcCL",
        "outputId": "bb48835f-1b21-42d7-badd-e1687fc31d43"
      },
      "source": [
        "dataset_path = os.path.join(sys.path[0],'sharks')\n",
        "output_path= os.path.join(sys.path[0],\"output\")\n",
        "    \n",
        "#obtain image paths and ramdomize it\n",
        "image_paths = list(list_files(dataset_path))\n",
        "random.seed(42)\n",
        "random.shuffle(image_paths)\n",
        "    \n",
        "# initialize data and labels list\n",
        "data, labels, count, max_count = [],[],0,-1\n",
        "\n",
        "print(\"[INFO] Reading images from disk. This may take a while ... \")    \n",
        "for i in image_paths:\n",
        "\n",
        "    # load the image  and store the image in the data list\n",
        "    image = cv2.imread(i)\n",
        "    image = cv2.resize(image, (64, 64))\n",
        "    data.append(image)\n",
        "       \n",
        "    label = i.split(os.path.sep)[-2]\n",
        "    labels.append(label)\n",
        "        \n",
        "    count+=1\n",
        "    if count==max_count: break\n",
        "\n",
        "# print label count\n",
        "label_list = os.listdir(dataset_path)\n",
        "for l in label_list: print(\"label: {} counts: {}\".format(l,labels.count(l)))"
      ],
      "execution_count": null,
      "outputs": [
        {
          "output_type": "stream",
          "text": [
            "[INFO] Reading images from disk. This may take a while ... \n",
            "label: great_white_shark counts: 928\n",
            "label: mako counts: 0\n",
            "label: tiger_shark counts: 0\n",
            "label: hammerhead_shark counts: 744\n",
            "label: whale_shark counts: 0\n"
          ],
          "name": "stdout"
        }
      ]
    },
    {
      "cell_type": "markdown",
      "metadata": {
        "id": "C14qc_v-CB60"
      },
      "source": [
        "## **Data Preprocessing**"
      ]
    },
    {
      "cell_type": "markdown",
      "metadata": {
        "id": "szcydVn7CdM-"
      },
      "source": [
        "### **Scale Images**"
      ]
    },
    {
      "cell_type": "code",
      "metadata": {
        "id": "asDzKbgeCCF9"
      },
      "source": [
        "# scale the raw pixel intensities to the range [0, 1]\n",
        "data = np.array(data,dtype=\"float\") / 255.0\n",
        "labels = np.array(labels)"
      ],
      "execution_count": null,
      "outputs": []
    },
    {
      "cell_type": "markdown",
      "metadata": {
        "id": "Gqs_p_mLECnW"
      },
      "source": [
        "### **Train/Test Split**"
      ]
    },
    {
      "cell_type": "code",
      "metadata": {
        "id": "foIklGOKEDFg"
      },
      "source": [
        "# partition the data into training and testing splits using 75% of\n",
        "# the data for training and the remaining 25% for testing\n",
        "(trainX, testX, trainY, testY) = train_test_split(data,labels, test_size=0.25, random_state=42)"
      ],
      "execution_count": null,
      "outputs": []
    },
    {
      "cell_type": "markdown",
      "metadata": {
        "id": "I1p7ClQOERJh"
      },
      "source": [
        "###**One Hot-Encoding**"
      ]
    },
    {
      "cell_type": "code",
      "metadata": {
        "id": "feCHcmWhEQMQ"
      },
      "source": [
        "original_classes = trainY\n",
        "    \n",
        "# integer encode\n",
        "label_encoder = LabelEncoder()\n",
        "trainY = label_encoder.fit_transform(trainY)\n",
        "testY  = label_encoder.transform(testY)\n",
        "    \n",
        "#print(original_classes[0:10])\n",
        "#print(trainY[0:10])\n",
        "u, indices =np.unique(trainY,return_index=True)\n",
        "classes = [original_classes[i] for i in indices]\n",
        "#print(classes)\n",
        "  \n",
        "# binary encode\n",
        "onehot_encoder = OneHotEncoder(sparse=False)\n",
        "trainY = trainY.reshape(len(trainY), 1)\n",
        "trainY = onehot_encoder.fit_transform(trainY)\n",
        "testY = testY.reshape(len(testY), 1)\n",
        "testY = onehot_encoder.transform(testY)\n",
        "#print(trainY[0:10])"
      ],
      "execution_count": null,
      "outputs": []
    },
    {
      "cell_type": "markdown",
      "metadata": {
        "id": "TsndM3gmEmk3"
      },
      "source": [
        "###**Data Augmentation**"
      ]
    },
    {
      "cell_type": "code",
      "metadata": {
        "id": "YYwIhYXHEsIN"
      },
      "source": [
        "# construct the image generator for data augmentation\n",
        "aug = ImageDataGenerator(rotation_range=30, width_shift_range=0.1,\n",
        "                          height_shift_range=0.1, shear_range=0.2, zoom_range=0.2,\n",
        "                          horizontal_flip=True, fill_mode=\"nearest\")"
      ],
      "execution_count": null,
      "outputs": []
    },
    {
      "cell_type": "code",
      "metadata": {
        "id": "-dO-evtQ0MXC"
      },
      "source": [
        ""
      ],
      "execution_count": null,
      "outputs": []
    },
    {
      "cell_type": "markdown",
      "metadata": {
        "id": "cT-I39MJE0mA"
      },
      "source": [
        "##**Define Model and Compile**"
      ]
    },
    {
      "cell_type": "code",
      "metadata": {
        "colab": {
          "base_uri": "https://localhost:8080/"
        },
        "id": "TUjDLo-gFJXs",
        "outputId": "4757ecbc-76b1-49da-8df1-f4f4d290241c"
      },
      "source": [
        "# initialize our VGG-like Convolutional Neural Network\n",
        "model = SmallVGGNet.build(width=64, height=64, depth=3,classes=len(classes))\n",
        "\n",
        "# initialize our initial learning rate and # of epochs to train for\n",
        "INIT_LR = 1\n",
        "EPOCHS = 1000\n",
        "BS = 128\n",
        "\n",
        "# define early stopping callback\n",
        "callback= EarlyStopping(\n",
        "          monitor=\"val_loss\",\n",
        "          patience=20,\n",
        "          mode=\"auto\",\n",
        "          restore_best_weights=True,\n",
        "          )\n",
        "    \n",
        "# compile the model using SGD as our optimizer and categorical\n",
        "# cross-entropy loss (you'll want to use binary_crossentropy\n",
        "# for 2-class classification)\n",
        "print(\"[INFO] training network...\")\n",
        "opt = SGD(learning_rate=INIT_LR,decay=0.005)#,decay=INIT_LR/EPOCHS\n",
        "#opt = Adam(learning_rate=INIT_LR)\n",
        "model.compile(loss=\"binary_crossentropy\", optimizer=opt,metrics=[\"accuracy\"])"
      ],
      "execution_count": null,
      "outputs": [
        {
          "output_type": "stream",
          "text": [
            "[INFO] training network...\n"
          ],
          "name": "stdout"
        }
      ]
    },
    {
      "cell_type": "markdown",
      "metadata": {
        "id": "GFEDrlXfFZhd"
      },
      "source": [
        "##**Train Model**"
      ]
    },
    {
      "cell_type": "code",
      "metadata": {
        "colab": {
          "base_uri": "https://localhost:8080/"
        },
        "id": "S-aJgCaHFdWj",
        "outputId": "0b2d843e-9a35-464b-8170-799cc4188672"
      },
      "source": [
        "# train the network\n",
        "H = model.fit(x=aug.flow(trainX, trainY, batch_size=BS),\n",
        "              validation_data=(testX, testY), steps_per_epoch=len(trainX) // BS,\n",
        "              epochs=EPOCHS,callbacks=[callback])"
      ],
      "execution_count": null,
      "outputs": [
        {
          "output_type": "stream",
          "text": [
            "Epoch 1/1000\n",
            "9/9 [==============================] - 3s 202ms/step - loss: 2.8016 - accuracy: 0.5710 - val_loss: 38065.8438 - val_accuracy: 0.5311\n",
            "Epoch 2/1000\n",
            "9/9 [==============================] - 1s 151ms/step - loss: 2.3921 - accuracy: 0.5746 - val_loss: 4592.1431 - val_accuracy: 0.5311\n",
            "Epoch 3/1000\n",
            "9/9 [==============================] - 1s 153ms/step - loss: 1.2768 - accuracy: 0.6403 - val_loss: 961.1270 - val_accuracy: 0.4713\n",
            "Epoch 4/1000\n",
            "9/9 [==============================] - 1s 150ms/step - loss: 0.7481 - accuracy: 0.6812 - val_loss: 202.7712 - val_accuracy: 0.4833\n",
            "Epoch 5/1000\n",
            "9/9 [==============================] - 1s 156ms/step - loss: 0.7747 - accuracy: 0.6679 - val_loss: 100.0646 - val_accuracy: 0.4689\n",
            "Epoch 6/1000\n",
            "9/9 [==============================] - 1s 158ms/step - loss: 0.7280 - accuracy: 0.6714 - val_loss: 122.3182 - val_accuracy: 0.4689\n",
            "Epoch 7/1000\n",
            "9/9 [==============================] - 1s 152ms/step - loss: 0.5766 - accuracy: 0.7345 - val_loss: 17.7880 - val_accuracy: 0.5789\n",
            "Epoch 8/1000\n",
            "9/9 [==============================] - 1s 155ms/step - loss: 0.6418 - accuracy: 0.7109 - val_loss: 22.5905 - val_accuracy: 0.4689\n",
            "Epoch 9/1000\n",
            "9/9 [==============================] - 1s 158ms/step - loss: 0.5889 - accuracy: 0.7370 - val_loss: 13.9466 - val_accuracy: 0.4689\n",
            "Epoch 10/1000\n",
            "9/9 [==============================] - 1s 149ms/step - loss: 0.6277 - accuracy: 0.7229 - val_loss: 9.8646 - val_accuracy: 0.4665\n",
            "Epoch 11/1000\n",
            "9/9 [==============================] - 1s 150ms/step - loss: 0.4792 - accuracy: 0.7593 - val_loss: 7.2744 - val_accuracy: 0.4689\n",
            "Epoch 12/1000\n",
            "9/9 [==============================] - 1s 152ms/step - loss: 0.5432 - accuracy: 0.7487 - val_loss: 6.5776 - val_accuracy: 0.4689\n",
            "Epoch 13/1000\n",
            "9/9 [==============================] - 1s 153ms/step - loss: 0.5015 - accuracy: 0.7744 - val_loss: 2.5984 - val_accuracy: 0.5239\n",
            "Epoch 14/1000\n",
            "9/9 [==============================] - 1s 151ms/step - loss: 0.4798 - accuracy: 0.7602 - val_loss: 1.5226 - val_accuracy: 0.5526\n",
            "Epoch 15/1000\n",
            "9/9 [==============================] - 1s 154ms/step - loss: 0.5118 - accuracy: 0.7629 - val_loss: 1.5157 - val_accuracy: 0.5407\n",
            "Epoch 16/1000\n",
            "9/9 [==============================] - 1s 152ms/step - loss: 0.4816 - accuracy: 0.7700 - val_loss: 1.1667 - val_accuracy: 0.5598\n",
            "Epoch 17/1000\n",
            "9/9 [==============================] - 1s 155ms/step - loss: 0.4914 - accuracy: 0.7496 - val_loss: 0.8321 - val_accuracy: 0.5694\n",
            "Epoch 18/1000\n",
            "9/9 [==============================] - 1s 159ms/step - loss: 0.4850 - accuracy: 0.7780 - val_loss: 1.1017 - val_accuracy: 0.5718\n",
            "Epoch 19/1000\n",
            "9/9 [==============================] - 1s 157ms/step - loss: 0.4401 - accuracy: 0.7975 - val_loss: 0.7394 - val_accuracy: 0.6555\n",
            "Epoch 20/1000\n",
            "9/9 [==============================] - 1s 156ms/step - loss: 0.4848 - accuracy: 0.7593 - val_loss: 0.9811 - val_accuracy: 0.6005\n",
            "Epoch 21/1000\n",
            "9/9 [==============================] - 1s 159ms/step - loss: 0.4429 - accuracy: 0.7975 - val_loss: 0.9956 - val_accuracy: 0.5742\n",
            "Epoch 22/1000\n",
            "9/9 [==============================] - 1s 159ms/step - loss: 0.4721 - accuracy: 0.7943 - val_loss: 0.6033 - val_accuracy: 0.7153\n",
            "Epoch 23/1000\n",
            "9/9 [==============================] - 1s 156ms/step - loss: 0.5762 - accuracy: 0.7655 - val_loss: 0.8421 - val_accuracy: 0.6388\n",
            "Epoch 24/1000\n",
            "9/9 [==============================] - 1s 151ms/step - loss: 0.4516 - accuracy: 0.7940 - val_loss: 0.5357 - val_accuracy: 0.7536\n",
            "Epoch 25/1000\n",
            "9/9 [==============================] - 1s 152ms/step - loss: 0.4436 - accuracy: 0.7934 - val_loss: 0.5166 - val_accuracy: 0.7560\n",
            "Epoch 26/1000\n",
            "9/9 [==============================] - 1s 152ms/step - loss: 0.4052 - accuracy: 0.8162 - val_loss: 0.4596 - val_accuracy: 0.7679\n",
            "Epoch 27/1000\n",
            "9/9 [==============================] - 1s 154ms/step - loss: 0.4285 - accuracy: 0.8126 - val_loss: 0.4554 - val_accuracy: 0.7967\n",
            "Epoch 28/1000\n",
            "9/9 [==============================] - 1s 154ms/step - loss: 0.4546 - accuracy: 0.7895 - val_loss: 0.4883 - val_accuracy: 0.7871\n",
            "Epoch 29/1000\n",
            "9/9 [==============================] - 1s 153ms/step - loss: 0.4139 - accuracy: 0.8206 - val_loss: 0.4331 - val_accuracy: 0.7990\n",
            "Epoch 30/1000\n",
            "9/9 [==============================] - 1s 153ms/step - loss: 0.4400 - accuracy: 0.7869 - val_loss: 0.4866 - val_accuracy: 0.7990\n",
            "Epoch 31/1000\n",
            "9/9 [==============================] - 1s 152ms/step - loss: 0.4096 - accuracy: 0.8224 - val_loss: 0.4264 - val_accuracy: 0.8158\n",
            "Epoch 32/1000\n",
            "9/9 [==============================] - 1s 160ms/step - loss: 0.3971 - accuracy: 0.8186 - val_loss: 0.4505 - val_accuracy: 0.7990\n",
            "Epoch 33/1000\n",
            "9/9 [==============================] - 1s 160ms/step - loss: 0.3918 - accuracy: 0.8242 - val_loss: 0.4208 - val_accuracy: 0.7919\n",
            "Epoch 34/1000\n",
            "9/9 [==============================] - 1s 154ms/step - loss: 0.4158 - accuracy: 0.8055 - val_loss: 0.4196 - val_accuracy: 0.8254\n",
            "Epoch 35/1000\n",
            "9/9 [==============================] - 1s 154ms/step - loss: 0.3880 - accuracy: 0.8215 - val_loss: 0.4423 - val_accuracy: 0.8182\n",
            "Epoch 36/1000\n",
            "9/9 [==============================] - 1s 161ms/step - loss: 0.4026 - accuracy: 0.8144 - val_loss: 0.4487 - val_accuracy: 0.7967\n",
            "Epoch 37/1000\n",
            "9/9 [==============================] - 1s 159ms/step - loss: 0.3772 - accuracy: 0.8168 - val_loss: 0.3903 - val_accuracy: 0.8134\n",
            "Epoch 38/1000\n",
            "9/9 [==============================] - 1s 154ms/step - loss: 0.4004 - accuracy: 0.8321 - val_loss: 0.3984 - val_accuracy: 0.8134\n",
            "Epoch 39/1000\n",
            "9/9 [==============================] - 1s 156ms/step - loss: 0.3992 - accuracy: 0.8197 - val_loss: 0.3837 - val_accuracy: 0.8373\n",
            "Epoch 40/1000\n",
            "9/9 [==============================] - 1s 156ms/step - loss: 0.4085 - accuracy: 0.8233 - val_loss: 0.3848 - val_accuracy: 0.8325\n",
            "Epoch 41/1000\n",
            "9/9 [==============================] - 1s 154ms/step - loss: 0.3668 - accuracy: 0.8394 - val_loss: 0.3549 - val_accuracy: 0.8469\n",
            "Epoch 42/1000\n",
            "9/9 [==============================] - 1s 154ms/step - loss: 0.3793 - accuracy: 0.8259 - val_loss: 0.3700 - val_accuracy: 0.8493\n",
            "Epoch 43/1000\n",
            "9/9 [==============================] - 1s 148ms/step - loss: 0.4088 - accuracy: 0.8144 - val_loss: 0.4245 - val_accuracy: 0.7967\n",
            "Epoch 44/1000\n",
            "9/9 [==============================] - 1s 155ms/step - loss: 0.3639 - accuracy: 0.8384 - val_loss: 0.3955 - val_accuracy: 0.8373\n",
            "Epoch 45/1000\n",
            "9/9 [==============================] - 1s 160ms/step - loss: 0.3699 - accuracy: 0.8419 - val_loss: 0.3648 - val_accuracy: 0.8373\n",
            "Epoch 46/1000\n",
            "9/9 [==============================] - 1s 159ms/step - loss: 0.3744 - accuracy: 0.8342 - val_loss: 0.3740 - val_accuracy: 0.8325\n",
            "Epoch 47/1000\n",
            "9/9 [==============================] - 1s 158ms/step - loss: 0.3605 - accuracy: 0.8411 - val_loss: 0.4096 - val_accuracy: 0.8301\n",
            "Epoch 48/1000\n",
            "9/9 [==============================] - 1s 161ms/step - loss: 0.3508 - accuracy: 0.8307 - val_loss: 0.4128 - val_accuracy: 0.8134\n",
            "Epoch 49/1000\n",
            "9/9 [==============================] - 1s 158ms/step - loss: 0.3656 - accuracy: 0.8277 - val_loss: 0.3575 - val_accuracy: 0.8493\n",
            "Epoch 50/1000\n",
            "9/9 [==============================] - 1s 150ms/step - loss: 0.3521 - accuracy: 0.8508 - val_loss: 0.3680 - val_accuracy: 0.8301\n",
            "Epoch 51/1000\n",
            "9/9 [==============================] - 1s 156ms/step - loss: 0.3394 - accuracy: 0.8561 - val_loss: 0.3958 - val_accuracy: 0.8445\n",
            "Epoch 52/1000\n",
            "9/9 [==============================] - 1s 153ms/step - loss: 0.3566 - accuracy: 0.8550 - val_loss: 0.3843 - val_accuracy: 0.8397\n",
            "Epoch 53/1000\n",
            "9/9 [==============================] - 1s 152ms/step - loss: 0.3698 - accuracy: 0.8508 - val_loss: 0.3825 - val_accuracy: 0.8373\n",
            "Epoch 54/1000\n",
            "9/9 [==============================] - 1s 154ms/step - loss: 0.3511 - accuracy: 0.8508 - val_loss: 0.3538 - val_accuracy: 0.8565\n",
            "Epoch 55/1000\n",
            "9/9 [==============================] - 1s 157ms/step - loss: 0.3675 - accuracy: 0.8357 - val_loss: 0.3481 - val_accuracy: 0.8541\n",
            "Epoch 56/1000\n",
            "9/9 [==============================] - 1s 158ms/step - loss: 0.3377 - accuracy: 0.8526 - val_loss: 0.3601 - val_accuracy: 0.8469\n",
            "Epoch 57/1000\n",
            "9/9 [==============================] - 1s 155ms/step - loss: 0.3528 - accuracy: 0.8384 - val_loss: 0.3704 - val_accuracy: 0.8469\n",
            "Epoch 58/1000\n",
            "9/9 [==============================] - 1s 153ms/step - loss: 0.3272 - accuracy: 0.8499 - val_loss: 0.3803 - val_accuracy: 0.8373\n",
            "Epoch 59/1000\n",
            "9/9 [==============================] - 1s 155ms/step - loss: 0.3531 - accuracy: 0.8393 - val_loss: 0.3475 - val_accuracy: 0.8421\n",
            "Epoch 60/1000\n",
            "9/9 [==============================] - 1s 153ms/step - loss: 0.3362 - accuracy: 0.8623 - val_loss: 0.3476 - val_accuracy: 0.8565\n",
            "Epoch 61/1000\n",
            "9/9 [==============================] - 1s 156ms/step - loss: 0.3187 - accuracy: 0.8570 - val_loss: 0.3495 - val_accuracy: 0.8469\n",
            "Epoch 62/1000\n",
            "9/9 [==============================] - 1s 155ms/step - loss: 0.3172 - accuracy: 0.8677 - val_loss: 0.3946 - val_accuracy: 0.8349\n",
            "Epoch 63/1000\n",
            "9/9 [==============================] - 1s 155ms/step - loss: 0.3272 - accuracy: 0.8544 - val_loss: 0.3455 - val_accuracy: 0.8636\n",
            "Epoch 64/1000\n",
            "9/9 [==============================] - 1s 158ms/step - loss: 0.3476 - accuracy: 0.8499 - val_loss: 0.3744 - val_accuracy: 0.8565\n",
            "Epoch 65/1000\n",
            "9/9 [==============================] - 1s 155ms/step - loss: 0.3141 - accuracy: 0.8561 - val_loss: 0.3652 - val_accuracy: 0.8445\n",
            "Epoch 66/1000\n",
            "9/9 [==============================] - 1s 151ms/step - loss: 0.3161 - accuracy: 0.8641 - val_loss: 0.3654 - val_accuracy: 0.8493\n",
            "Epoch 67/1000\n",
            "9/9 [==============================] - 1s 159ms/step - loss: 0.3264 - accuracy: 0.8597 - val_loss: 0.3742 - val_accuracy: 0.8349\n",
            "Epoch 68/1000\n",
            "9/9 [==============================] - 1s 155ms/step - loss: 0.3086 - accuracy: 0.8668 - val_loss: 0.3679 - val_accuracy: 0.8636\n",
            "Epoch 69/1000\n",
            "9/9 [==============================] - 1s 158ms/step - loss: 0.3131 - accuracy: 0.8615 - val_loss: 0.3715 - val_accuracy: 0.8469\n",
            "Epoch 70/1000\n",
            "9/9 [==============================] - 1s 151ms/step - loss: 0.3073 - accuracy: 0.8641 - val_loss: 0.3353 - val_accuracy: 0.8589\n",
            "Epoch 71/1000\n",
            "9/9 [==============================] - 1s 155ms/step - loss: 0.3304 - accuracy: 0.8632 - val_loss: 0.3555 - val_accuracy: 0.8493\n",
            "Epoch 72/1000\n",
            "9/9 [==============================] - 1s 151ms/step - loss: 0.3340 - accuracy: 0.8535 - val_loss: 0.3864 - val_accuracy: 0.8325\n",
            "Epoch 73/1000\n",
            "9/9 [==============================] - 1s 151ms/step - loss: 0.3153 - accuracy: 0.8544 - val_loss: 0.3347 - val_accuracy: 0.8636\n",
            "Epoch 74/1000\n",
            "9/9 [==============================] - 1s 155ms/step - loss: 0.3085 - accuracy: 0.8672 - val_loss: 0.3850 - val_accuracy: 0.8469\n",
            "Epoch 75/1000\n",
            "9/9 [==============================] - 1s 159ms/step - loss: 0.3069 - accuracy: 0.8650 - val_loss: 0.3443 - val_accuracy: 0.8636\n",
            "Epoch 76/1000\n",
            "9/9 [==============================] - 1s 152ms/step - loss: 0.3016 - accuracy: 0.8757 - val_loss: 0.3724 - val_accuracy: 0.8517\n",
            "Epoch 77/1000\n",
            "9/9 [==============================] - 1s 156ms/step - loss: 0.3199 - accuracy: 0.8606 - val_loss: 0.3431 - val_accuracy: 0.8589\n",
            "Epoch 78/1000\n",
            "9/9 [==============================] - 1s 154ms/step - loss: 0.3219 - accuracy: 0.8659 - val_loss: 0.3621 - val_accuracy: 0.8517\n",
            "Epoch 79/1000\n",
            "9/9 [==============================] - 1s 156ms/step - loss: 0.2858 - accuracy: 0.8686 - val_loss: 0.3545 - val_accuracy: 0.8708\n",
            "Epoch 80/1000\n",
            "9/9 [==============================] - 1s 158ms/step - loss: 0.2914 - accuracy: 0.8783 - val_loss: 0.3600 - val_accuracy: 0.8660\n",
            "Epoch 81/1000\n",
            "9/9 [==============================] - 1s 157ms/step - loss: 0.2949 - accuracy: 0.8721 - val_loss: 0.3617 - val_accuracy: 0.8541\n",
            "Epoch 82/1000\n",
            "9/9 [==============================] - 1s 155ms/step - loss: 0.2845 - accuracy: 0.8783 - val_loss: 0.3378 - val_accuracy: 0.8565\n",
            "Epoch 83/1000\n",
            "9/9 [==============================] - 1s 156ms/step - loss: 0.2560 - accuracy: 0.8908 - val_loss: 0.3656 - val_accuracy: 0.8397\n",
            "Epoch 84/1000\n",
            "9/9 [==============================] - 1s 154ms/step - loss: 0.2841 - accuracy: 0.8792 - val_loss: 0.4028 - val_accuracy: 0.8517\n",
            "Epoch 85/1000\n",
            "9/9 [==============================] - 1s 157ms/step - loss: 0.2772 - accuracy: 0.8801 - val_loss: 0.3436 - val_accuracy: 0.8517\n",
            "Epoch 86/1000\n",
            "9/9 [==============================] - 1s 153ms/step - loss: 0.2663 - accuracy: 0.8970 - val_loss: 0.3701 - val_accuracy: 0.8493\n",
            "Epoch 87/1000\n",
            "9/9 [==============================] - 1s 157ms/step - loss: 0.2657 - accuracy: 0.8899 - val_loss: 0.3797 - val_accuracy: 0.8469\n",
            "Epoch 88/1000\n",
            "9/9 [==============================] - 1s 157ms/step - loss: 0.2961 - accuracy: 0.8733 - val_loss: 0.3474 - val_accuracy: 0.8517\n",
            "Epoch 89/1000\n",
            "9/9 [==============================] - 1s 154ms/step - loss: 0.2633 - accuracy: 0.8810 - val_loss: 0.3567 - val_accuracy: 0.8421\n",
            "Epoch 90/1000\n",
            "9/9 [==============================] - 1s 156ms/step - loss: 0.2778 - accuracy: 0.8792 - val_loss: 0.3494 - val_accuracy: 0.8684\n",
            "Epoch 91/1000\n",
            "9/9 [==============================] - 1s 153ms/step - loss: 0.2503 - accuracy: 0.8872 - val_loss: 0.3650 - val_accuracy: 0.8780\n",
            "Epoch 92/1000\n",
            "9/9 [==============================] - 1s 154ms/step - loss: 0.2810 - accuracy: 0.8828 - val_loss: 0.3452 - val_accuracy: 0.8636\n",
            "Epoch 93/1000\n",
            "9/9 [==============================] - 1s 161ms/step - loss: 0.2565 - accuracy: 0.8801 - val_loss: 0.3573 - val_accuracy: 0.8612\n"
          ],
          "name": "stdout"
        }
      ]
    },
    {
      "cell_type": "markdown",
      "metadata": {
        "id": "m9_RytfbFvsI"
      },
      "source": [
        "##**Evaluate the Network**"
      ]
    },
    {
      "cell_type": "code",
      "metadata": {
        "colab": {
          "base_uri": "https://localhost:8080/",
          "height": 490
        },
        "id": "-qwb_gYgF4TF",
        "outputId": "d375bc34-f138-4886-b1d8-c64955f94858"
      },
      "source": [
        "# evaluate the network\n",
        "print(\"[INFO] evaluating network...\")\n",
        "predictions = model.predict(x=testX, batch_size=BS)\n",
        "print(classification_report(testY.argmax(axis=1),predictions.argmax(axis=1), target_names=classes))\n",
        "#print(confusion_matrix(testY.argmax(axis=1),predictions.argmax(axis=1), labels=classes))\n",
        "    \n",
        "# plot the training loss and accuracy\n",
        "N = np.arange(0, len(H.history[\"loss\"]))\n",
        "plt.style.use(\"ggplot\")\n",
        "plt.figure()\n",
        "plt.plot(N, H.history[\"loss\"], label=\"train_loss\")\n",
        "plt.plot(N, H.history[\"val_loss\"], label=\"val_loss\")\n",
        "plt.plot(N, H.history[\"accuracy\"], label=\"train_acc\")\n",
        "plt.plot(N, H.history[\"val_accuracy\"], label=\"val_acc\")\n",
        "plt.title(\"Training Loss and Accuracy (SmallVGGNet)\")\n",
        "plt.xlabel(\"Epoch #\")\n",
        "plt.ylabel(\"Loss/Accuracy\")\n",
        "plt.ylim([0, 1])\n",
        "plt.legend()\n",
        "plt.show()\n",
        "plt.savefig(os.path.join(output_path,'smallvggnet_plot.png'))"
      ],
      "execution_count": null,
      "outputs": [
        {
          "output_type": "stream",
          "text": [
            "[INFO] evaluating network...\n",
            "                   precision    recall  f1-score   support\n",
            "\n",
            "great_white_shark       0.86      0.88      0.87       222\n",
            " hammerhead_shark       0.86      0.84      0.85       196\n",
            "\n",
            "         accuracy                           0.86       418\n",
            "        macro avg       0.86      0.86      0.86       418\n",
            "     weighted avg       0.86      0.86      0.86       418\n",
            "\n"
          ],
          "name": "stdout"
        },
        {
          "output_type": "display_data",
          "data": {
            "image/png": "[encoded data removed]",
            "text/plain": [
              "<Figure size 432x288 with 1 Axes>"
            ]
          },
          "metadata": {
            "tags": []
          }
        },
        {
          "output_type": "display_data",
          "data": {
            "text/plain": [
              "<Figure size 432x288 with 0 Axes>"
            ]
          },
          "metadata": {
            "tags": []
          }
        }
      ]
    },
    {
      "cell_type": "markdown",
      "metadata": {
        "id": "d4raNKDSGOjT"
      },
      "source": [
        "##**Save the Model**"
      ]
    },
    {
      "cell_type": "code",
      "metadata": {
        "id": "cSQg64F6GR-L"
      },
      "source": [
        "# save the model and label binarizer to disk\n",
        "save = False\n",
        "if save:\n",
        "  print(\"[INFO] serializing network and label binarizer...\")\n",
        "  model.save(os.path.join(output_path,'smallvggnet.model'), save_format=\"h5\")\n",
        "  f = open(os.path.join(output_path,'smallvggnet.pickle'), \"wb\")\n",
        "  f.write(pickle.dumps(classes))\n",
        "  f.close()"
      ],
      "execution_count": null,
      "outputs": []
    }
  ]
}